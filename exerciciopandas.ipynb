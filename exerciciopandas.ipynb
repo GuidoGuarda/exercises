{
 "cells": [
  {
   "cell_type": "markdown",
   "metadata": {},
   "source": [
    "# Competências Pandas\n",
    "\n",
    "- Entender as funções básicas\n",
    "- Utilizar as funções básicas\n",
    "- Renomear colunas\n",
    "- Selecionar colunas e linhas\n",
    "- Adicionar e remover colunas\n",
    "- Realizar consultas\n",
    "- Ordenar itens\n",
    "- Combinar e econcatenar DataFrames\n",
    "- Salvar DataFrames"
   ]
  },
  {
   "cell_type": "markdown",
   "metadata": {},
   "source": [
    "Entender as funções básicas\n",
    "\n",
    "    head() - retorna linhas iniciais do DataFrame\n",
    "    tail() - retorna  linhas finais do DataFrame\n",
    "    shape: retorna o número de linhas e colunas\n",
    "    info() - retorna o número de colunas, contagem de célulkas, tipo e memória usada\n",
    "    columns: mostra todas as colunas\n",
    "    count(): conta as células preenchidas\n",
    "    describe(): retorna medidas estatíticas sobre as colunas (média, percentis, desvio padrão, percentis 50%-, madiana)"
   ]
  },
  {
   "cell_type": "code",
   "execution_count": 12,
   "metadata": {},
   "outputs": [
    {
     "name": "stdout",
     "output_type": "stream",
     "text": [
      "Requirement already satisfied: pandas in c:\\users\\ead\\desktop\\tarde_exercicio_guido\\.venv\\lib\\site-packages (2.2.2)\n",
      "Requirement already satisfied: numpy>=1.26.0 in c:\\users\\ead\\desktop\\tarde_exercicio_guido\\.venv\\lib\\site-packages (from pandas) (2.0.1)\n",
      "Requirement already satisfied: python-dateutil>=2.8.2 in c:\\users\\ead\\desktop\\tarde_exercicio_guido\\.venv\\lib\\site-packages (from pandas) (2.9.0.post0)\n",
      "Requirement already satisfied: pytz>=2020.1 in c:\\users\\ead\\desktop\\tarde_exercicio_guido\\.venv\\lib\\site-packages (from pandas) (2024.1)\n",
      "Requirement already satisfied: tzdata>=2022.7 in c:\\users\\ead\\desktop\\tarde_exercicio_guido\\.venv\\lib\\site-packages (from pandas) (2024.1)\n",
      "Requirement already satisfied: six>=1.5 in c:\\users\\ead\\desktop\\tarde_exercicio_guido\\.venv\\lib\\site-packages (from python-dateutil>=2.8.2->pandas) (1.16.0)\n"
     ]
    }
   ],
   "source": [
    "! pip install pandas"
   ]
  },
  {
   "cell_type": "code",
   "execution_count": 18,
   "metadata": {},
   "outputs": [],
   "source": [
    "import pandas as pd\n",
    "\n",
    "url = \"controlegastos.csv\"\n",
    "df = pd.read_csv(url,sep=';')"
   ]
  }
 ],
 "metadata": {
  "kernelspec": {
   "display_name": ".venv",
   "language": "python",
   "name": "python3"
  },
  "language_info": {
   "codemirror_mode": {
    "name": "ipython",
    "version": 3
   },
   "file_extension": ".py",
   "mimetype": "text/x-python",
   "name": "python",
   "nbconvert_exporter": "python",
   "pygments_lexer": "ipython3",
   "version": "3.12.4"
  }
 },
 "nbformat": 4,
 "nbformat_minor": 2
}
