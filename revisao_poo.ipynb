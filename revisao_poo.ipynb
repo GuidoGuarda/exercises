{
 "cells": [
  {
   "cell_type": "markdown",
   "metadata": {},
   "source": [
    "# Revisão POO"
   ]
  },
  {
   "cell_type": "markdown",
   "metadata": {},
   "source": [
    "Criar uma classe que ajude no controle financeiro.\n",
    "Os atributos são:\n",
    "\n",
    "- descrição\n",
    "- valor\n",
    "- categoria\n"
   ]
  },
  {
   "cell_type": "code",
   "execution_count": 7,
   "metadata": {},
   "outputs": [],
   "source": [
    "class ControleFinanceiro:\n",
    "    # Esse é o construtor (função especial)\n",
    "    def __init__(self,description,values,category):\n",
    "        self.description = description\n",
    "        self.values = values\n",
    "        self.category = category\n",
    "    # Métodos de trabalho\n",
    "    def verify_values(self):\n",
    "        if self.values > 3000:\n",
    "            return \"card alert!!!\"\n",
    "        else:\n",
    "            return \"Keep spending limit\"\n",
    "         \n",
    "\n"
   ]
  },
  {
   "cell_type": "code",
   "execution_count": 9,
   "metadata": {},
   "outputs": [
    {
     "data": {
      "text/plain": [
       "'Keep spending limit'"
      ]
     },
     "execution_count": 9,
     "metadata": {},
     "output_type": "execute_result"
    }
   ],
   "source": [
    "cf = ControleFinanceiro(\"Cinemark Família\", 180,\"Lazer\")\n",
    "cf.verify_values()\n"
   ]
  },
  {
   "cell_type": "code",
   "execution_count": 13,
   "metadata": {},
   "outputs": [
    {
     "name": "stdout",
     "output_type": "stream",
     "text": [
      "Result: Keep spending limit - category: Lazer\n"
     ]
    }
   ],
   "source": [
    "cf = ControleFinanceiro(\"Cinemark Família\", 180,\"Lazer\")\n",
    "                \n",
    "print(f\"Result: {cf.verify_values()} - category: {cf.category}\")"
   ]
  },
  {
   "cell_type": "markdown",
   "metadata": {},
   "source": [
    "# Desafio\n",
    "- Criar uma classe com o nome Matemática\n",
    "- Criar construtor com dois atributos com os nomes x, y\n",
    "- Criar um método para somar x e y\n",
    "- criar um método para dividir x e y\n",
    "- Criar um método para calcular a média aritimética de x e y\n",
    "- Criar um método para calcular a média ponderada com peso 1 e 2\n"
   ]
  },
  {
   "cell_type": "code",
   "execution_count": 30,
   "metadata": {},
   "outputs": [],
   "source": [
    "class Matematica:\n",
    "    def __init__(self, x,y):\n",
    "        self.x = x\n",
    "        self.y = y\n",
    "\n",
    "    def somar_valores(self):        \n",
    "        soma = self.x + self.y \n",
    "        print(f'A soma dos valores é: {soma}')     \n",
    "   \n",
    "    def subtrair_valores(self):        \n",
    "        subtracao = self.x - self.y \n",
    "        print(f'A subtração dos valores é: {subtracao}') \n",
    "\n",
    "    def dividir_valores(self):\n",
    "        divisao = self.x / self.y\n",
    "        print(f'A divisão entre os valores é: {divisao}')\n",
    "\n",
    "    def media_aritimetica(self):\n",
    "         mediaaritimetica = (self.x + self.y)/2\n",
    "         print(f'A média aritimética entre os valore é: {mediaaritimetica}')\n",
    "\n",
    "    def media_ponderada(self):\n",
    "         mediaponderada = ((self.x * 1)+(self.y * 2))/3\n",
    "         print(f'A média ponderada entre os valores é: {mediaponderada}')\n",
    "\n",
    "    def raiz_quadrada(self):\n",
    "         raizquadrada = ((self.x + self.y) **(1/2))\n",
    "         print(f'A raiz quadrada da soma os valores é: {raizquadrada}')"
   ]
  },
  {
   "cell_type": "code",
   "execution_count": 31,
   "metadata": {},
   "outputs": [
    {
     "name": "stdout",
     "output_type": "stream",
     "text": [
      "A soma dos valores é: 9\n"
     ]
    }
   ],
   "source": [
    "#Atribuição de Valores e Soma\n",
    "mt = Matematica(6,3)\n",
    "mt.somar_valores()"
   ]
  },
  {
   "cell_type": "code",
   "execution_count": 32,
   "metadata": {},
   "outputs": [
    {
     "name": "stdout",
     "output_type": "stream",
     "text": [
      "A divisão entre os valores é: 2.0\n"
     ]
    }
   ],
   "source": [
    "#Divisão\n",
    "mt.dividir_valores()"
   ]
  },
  {
   "cell_type": "code",
   "execution_count": 33,
   "metadata": {},
   "outputs": [
    {
     "name": "stdout",
     "output_type": "stream",
     "text": [
      "A média aritimética entre os valore é: 4.5\n"
     ]
    }
   ],
   "source": [
    "#Média Aritimética\n",
    "mt.media_aritimetica()"
   ]
  },
  {
   "cell_type": "code",
   "execution_count": 34,
   "metadata": {},
   "outputs": [
    {
     "name": "stdout",
     "output_type": "stream",
     "text": [
      "A média ponderada entre os valores é: 4.0\n"
     ]
    }
   ],
   "source": [
    "#Média Ponderada\n",
    "mt.media_ponderada()"
   ]
  },
  {
   "cell_type": "code",
   "execution_count": 35,
   "metadata": {},
   "outputs": [
    {
     "name": "stdout",
     "output_type": "stream",
     "text": [
      "A raiz quadrada da soma os valores é: 3.0\n"
     ]
    }
   ],
   "source": [
    "mt.raiz_quadrada()"
   ]
  },
  {
   "cell_type": "code",
   "execution_count": 40,
   "metadata": {},
   "outputs": [
    {
     "name": "stdout",
     "output_type": "stream",
     "text": [
      "A subtração dos valores é: 3\n"
     ]
    }
   ],
   "source": [
    "mt.subtrair_valores()"
   ]
  },
  {
   "cell_type": "markdown",
   "metadata": {},
   "source": [
    "# Desafio 2\n",
    "\n",
    "\n",
    "\n",
    "\n",
    "\n"
   ]
  },
  {
   "cell_type": "markdown",
   "metadata": {},
   "source": [
    "1 - importar Pandas"
   ]
  },
  {
   "cell_type": "code",
   "execution_count": 45,
   "metadata": {},
   "outputs": [],
   "source": [
    "\n",
    "import pandas as pd"
   ]
  },
  {
   "cell_type": "markdown",
   "metadata": {},
   "source": [
    "2 - dados.columns ou use o da aula passada, ou abra o csv no Excel"
   ]
  },
  {
   "cell_type": "markdown",
   "metadata": {},
   "source": [
    "3 - escolher algumas colunas (mínimo 3)"
   ]
  },
  {
   "cell_type": "markdown",
   "metadata": {},
   "source": [
    "4 - criar a classe"
   ]
  },
  {
   "cell_type": "markdown",
   "metadata": {},
   "source": [
    "5 - criar objeto ( usar - passe os valores dos imóveis e mostre) "
   ]
  }
 ],
 "metadata": {
  "kernelspec": {
   "display_name": ".venv",
   "language": "python",
   "name": "python3"
  },
  "language_info": {
   "codemirror_mode": {
    "name": "ipython",
    "version": 3
   },
   "file_extension": ".py",
   "mimetype": "text/x-python",
   "name": "python",
   "nbconvert_exporter": "python",
   "pygments_lexer": "ipython3",
   "version": "3.12.4"
  }
 },
 "nbformat": 4,
 "nbformat_minor": 2
}
